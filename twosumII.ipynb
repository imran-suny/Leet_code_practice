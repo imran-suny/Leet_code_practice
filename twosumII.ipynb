{
 "cells": [
  {
   "cell_type": "markdown",
   "id": "c0d3ab1c",
   "metadata": {},
   "source": [
    "![Screenshot (32).png](<attachment:Screenshot (32).png>)"
   ]
  },
  {
   "cell_type": "code",
   "execution_count": null,
   "id": "b7591d97-1ad7-497e-8f4b-34c179a2247e",
   "metadata": {
    "execution": {
     "iopub.execute_input": "2023-04-23T23:35:41.353491Z",
     "iopub.status.busy": "2023-04-23T23:35:41.353056Z",
     "iopub.status.idle": "2023-04-23T23:35:43.825835Z",
     "shell.execute_reply": "2023-04-23T23:35:43.825144Z",
     "shell.execute_reply.started": "2023-04-23T23:35:41.353467Z"
    },
    "tags": []
   },
   "outputs": [
    {
     "name": "stdout",
     "output_type": "stream",
     "text": [
      "cuda\n"
     ]
    }
   ],
   "source": [
    "# Input: numbers = [2,7,11,15], target = 9\n",
    "# Output: [1,2]\n",
    "# Explanation: The sum of 2 and 7 is 9. Therefore, index1 = 1, index2 = 2. We return [1, 2].\n",
    "\n",
    "## Brute force \n",
    "from typing import List\n",
    "class Solution:\n",
    "    def twoSum(self, numbers: List[int], target: int) -> List[int]:\n",
    "        \"\"\"Find the indices of the two numbers that add to target.\n",
    "        Args:\n",
    "            numbers (List[int]): Sorted list of ints\n",
    "            target (int): Target to sum to\n",
    "        Returns:\n",
    "            List[int]: List of two indices added by one\n",
    "        \"\"\"\n",
    "        for i in range(len(numbers)):   # for 0 in [0,1,2,3]:   i.e, 2\n",
    "            for j in range(i + 1, len(numbers)): # for 1 in [0,1,2,3]: i.e 7 \n",
    "                if numbers[i] + numbers[j] == target: # 2+7 == 9, return 0+1 1+1  O(n^2)\n",
    "                    return [i + 1, j + 1]\n",
    "        raise ValueError(\"No solution found\")\n",
    "##################################################################################################\n",
    "\n",
    "## Two Pointer Solution (O(n))\n",
    "\n",
    "class Solution:\n",
    "    \"\"\"Solution class for Two Sum\"\"\"\n",
    "    def twoSum(  numbers: List[int], target: int  ) -> List[int]:\n",
    "        \"\"\"Find the indices of the two numbers that add to target.\n",
    "        Args:\n",
    "            numbers (List[int]): Sorted list of ints\n",
    "            target (int): Target to sum to\n",
    "        Returns:\n",
    "            List[int]: List of two indices added by one\n",
    "        \"\"\"\n",
    "        lower_index = 0  # first index intially \n",
    "        upper_index = len(numbers) - 1  # last index initially ,, then slowly reduce \n",
    "\n",
    "        while lower_index < upper_index:\n",
    "            lower_value = numbers[lower_index]\n",
    "            upper_value = numbers[upper_index]\n",
    "            lower_upper_sum = lower_value + upper_value\n",
    "            if lower_upper_sum == target:\n",
    "                return [lower_index + 1, upper_index + 1]\n",
    "            elif lower_upper_sum < target:\n",
    "                lower_index += 1\n",
    "            else:\n",
    "                upper_index -= 1\n",
    "        raise ValueError(\"No solution found\")"
   ]
  }
 ],
 "metadata": {
  "kernelspec": {
   "display_name": "base",
   "language": "python",
   "name": "python3"
  },
  "language_info": {
   "codemirror_mode": {
    "name": "ipython",
    "version": 3
   },
   "file_extension": ".py",
   "mimetype": "text/x-python",
   "name": "python",
   "nbconvert_exporter": "python",
   "pygments_lexer": "ipython3",
   "version": "3.10.9"
  }
 },
 "nbformat": 4,
 "nbformat_minor": 5
}
